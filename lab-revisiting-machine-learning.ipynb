{
 "cells": [
  {
   "cell_type": "markdown",
   "metadata": {},
   "source": [
    "**Lab | Revisiting Machine Learning Case Study**\n",
    "\n",
    "In this lab, you will use learningSet.csv file which you already have cloned in today's activities.\n",
    "Instructions\n",
    "\n",
    "1. Complete the following steps on the categorical columns in the dataset:\n",
    "2. Check for null values in all the columns\n",
    "3. Exclude the following variables by looking at the definitions. Create a new empty list called drop_list. We will append this list and then drop all the columns in this list later:\n",
    "\n",
    "- OSOURCE - symbol definitions not provided, too many categories\n",
    "- ZIP CODE - we are including state already\n",
    "- Identify columns that over 85% missing values\n",
    "\n",
    "4. Remove those columns from the dataframe\n",
    "5. Reduce the number of categories in the column GENDER. The column should only have either \"M\" for males, \"F\" for females, and \"other\" for all the rest\n",
    "\n",
    "6. Note that there are a few null values in the column. We will first replace those null values using the code below:\n",
    "- print(categorical['GENDER'].value_counts())\n",
    "- categorical['GENDER'] = categorical['GENDER'].fillna('F')\n"
   ]
  },
  {
   "cell_type": "code",
   "execution_count": 4,
   "metadata": {},
   "outputs": [],
   "source": [
    "import pandas as pd\n",
    "import numpy as np\n",
    "pd.set_option('display.max_columns', None)\n",
    "import warnings\n",
    "warnings.filterwarnings('ignore')\n",
    "import matplotlib.pyplot as plt\n",
    "import seaborn as sns "
   ]
  },
  {
   "cell_type": "code",
   "execution_count": 5,
   "metadata": {},
   "outputs": [
    {
     "data": {
      "text/plain": [
       "(95412, 481)"
      ]
     },
     "execution_count": 5,
     "metadata": {},
     "output_type": "execute_result"
    }
   ],
   "source": [
    "data = pd.read_csv(\"C:/Users/jw156/Ironhack/Day35/Morning/Activities/data_7.01_activities/learningSet.csv\")\n",
    "data.shape"
   ]
  },
  {
   "cell_type": "markdown",
   "metadata": {},
   "source": [
    "### 1. Categories"
   ]
  },
  {
   "cell_type": "code",
   "execution_count": 6,
   "metadata": {},
   "outputs": [],
   "source": [
    "data_cat = data.select_dtypes(np.object)"
   ]
  },
  {
   "cell_type": "code",
   "execution_count": 7,
   "metadata": {},
   "outputs": [
    {
     "data": {
      "text/plain": [
       "OSOURCE       0\n",
       "STATE         0\n",
       "ZIP           0\n",
       "MAILCODE      0\n",
       "PVASTATE      0\n",
       "           ... \n",
       "RFA_2A        0\n",
       "MDMAUD_R      0\n",
       "MDMAUD_F      0\n",
       "MDMAUD_A      0\n",
       "GEOCODE2    132\n",
       "Length: 74, dtype: int64"
      ]
     },
     "execution_count": 7,
     "metadata": {},
     "output_type": "execute_result"
    }
   ],
   "source": [
    "data_cat.isna().sum()"
   ]
  },
  {
   "cell_type": "code",
   "execution_count": 8,
   "metadata": {},
   "outputs": [],
   "source": [
    "def filter_nulls(df, perc = .50):\n",
    "  ''' This function gets a dataframe, inspects the percentage of null values in each column \n",
    "      and returns a list of those columns which has a percentage above the threshold value \n",
    "      provided by the user. A default percentage value of 25% is assumed unless another value\n",
    "      is provided in the function arguments.\n",
    "      Inputs: \n",
    "        df: a dataframe to inspec\n",
    "        [perc]: percentage of null values in each column\n",
    "      Outputs:\n",
    "        list of columns which have a percentage of null values above the specified thershold.\n",
    "  '''\n",
    "  nulls_percent_df = pd.DataFrame(df.isna().sum()/len(df)).reset_index()  \n",
    "  nulls_percent_df.columns = ['column_name', 'nulls_percentage']\n",
    "  columns_above_threshold = nulls_percent_df[nulls_percent_df['nulls_percentage']>perc]\n",
    "  drop_columns_list = list(columns_above_threshold['column_name'])\n",
    "  return drop_columns_list"
   ]
  },
  {
   "cell_type": "code",
   "execution_count": 9,
   "metadata": {},
   "outputs": [
    {
     "data": {
      "text/plain": [
       "['GEOCODE2']"
      ]
     },
     "execution_count": 9,
     "metadata": {},
     "output_type": "execute_result"
    }
   ],
   "source": [
    "filter_nulls(data_cat, 0)"
   ]
  },
  {
   "cell_type": "code",
   "execution_count": 10,
   "metadata": {},
   "outputs": [
    {
     "data": {
      "text/plain": [
       "Index(['ODATEDW', 'OSOURCE', 'TCODE', 'STATE', 'ZIP', 'MAILCODE', 'PVASTATE',\n",
       "       'DOB', 'NOEXCH', 'RECINHSE',\n",
       "       ...\n",
       "       'TARGET_D', 'HPHONE_D', 'RFA_2R', 'RFA_2F', 'RFA_2A', 'MDMAUD_R',\n",
       "       'MDMAUD_F', 'MDMAUD_A', 'CLUSTER2', 'GEOCODE2'],\n",
       "      dtype='object', length=481)"
      ]
     },
     "execution_count": 10,
     "metadata": {},
     "output_type": "execute_result"
    }
   ],
   "source": [
    "data.columns"
   ]
  },
  {
   "cell_type": "code",
   "execution_count": 11,
   "metadata": {},
   "outputs": [],
   "source": [
    "# Drop - OSOURCE, ZIP CODE, Identify columns that over 85% missing values"
   ]
  },
  {
   "cell_type": "code",
   "execution_count": 12,
   "metadata": {},
   "outputs": [],
   "source": [
    "list_to_drop = filter_nulls(data, .85)"
   ]
  },
  {
   "cell_type": "code",
   "execution_count": 13,
   "metadata": {},
   "outputs": [],
   "source": [
    "list_to_drop.append('OSOURCE')\n",
    "list_to_drop.append('ZIP')"
   ]
  },
  {
   "cell_type": "code",
   "execution_count": 14,
   "metadata": {},
   "outputs": [
    {
     "data": {
      "text/plain": [
       "['NUMCHLD',\n",
       " 'RDATE_3',\n",
       " 'RDATE_4',\n",
       " 'RDATE_5',\n",
       " 'RDATE_6',\n",
       " 'RDATE_7',\n",
       " 'RDATE_10',\n",
       " 'RDATE_13',\n",
       " 'RDATE_15',\n",
       " 'RDATE_17',\n",
       " 'RDATE_20',\n",
       " 'RDATE_21',\n",
       " 'RDATE_23',\n",
       " 'RAMNT_3',\n",
       " 'RAMNT_4',\n",
       " 'RAMNT_5',\n",
       " 'RAMNT_6',\n",
       " 'RAMNT_7',\n",
       " 'RAMNT_10',\n",
       " 'RAMNT_13',\n",
       " 'RAMNT_15',\n",
       " 'RAMNT_17',\n",
       " 'RAMNT_20',\n",
       " 'RAMNT_21',\n",
       " 'RAMNT_23',\n",
       " 'OSOURCE',\n",
       " 'ZIP']"
      ]
     },
     "execution_count": 14,
     "metadata": {},
     "output_type": "execute_result"
    }
   ],
   "source": [
    "list_to_drop"
   ]
  },
  {
   "cell_type": "markdown",
   "metadata": {},
   "source": [
    "### 4. Remove those columns from the dataframe\n"
   ]
  },
  {
   "cell_type": "code",
   "execution_count": 15,
   "metadata": {},
   "outputs": [],
   "source": [
    "data = data.drop(columns=list_to_drop)\n"
   ]
  },
  {
   "cell_type": "markdown",
   "metadata": {},
   "source": [
    "### 5.Reduce the number of categories in the column GENDER. The column should only have either \"M\" for males, \"F\" for females, and \"other\" for all the rest\n",
    "\n"
   ]
  },
  {
   "cell_type": "code",
   "execution_count": 16,
   "metadata": {},
   "outputs": [
    {
     "name": "stdout",
     "output_type": "stream",
     "text": [
      "F    51277\n",
      "M    39094\n",
      "      2957\n",
      "U     1715\n",
      "J      365\n",
      "A        2\n",
      "C        2\n",
      "Name: GENDER, dtype: int64\n"
     ]
    }
   ],
   "source": [
    "print(data['GENDER'].value_counts())\n",
    "data['GENDER'] = data['GENDER'].fillna('F')"
   ]
  },
  {
   "cell_type": "code",
   "execution_count": 21,
   "metadata": {},
   "outputs": [],
   "source": [
    "def clean_gender(df):\n",
    "    '''This function will checkout the column 'GENDER' from a given dataframe \n",
    "       and it will replace the NA's or blankds by \"other\"\n",
    "       Input:\n",
    "         df: dataframe to perform the cleanup\n",
    "       Output:\n",
    "         df: dataframe with the 'GENDER' column values according to the new specficications.\n",
    "    ''' \n",
    "        \n",
    "    df2 = df.copy()\n",
    "    df2['GENDER'] = np.where(df2['GENDER'].isin(['F','M']),df2['GENDER'],\"other\")\n",
    "\n",
    "    return df2"
   ]
  },
  {
   "cell_type": "code",
   "execution_count": 22,
   "metadata": {},
   "outputs": [],
   "source": [
    "data = clean_gender(data)"
   ]
  },
  {
   "cell_type": "code",
   "execution_count": 23,
   "metadata": {},
   "outputs": [
    {
     "data": {
      "text/plain": [
       "array(['F', 'M', 'other'], dtype=object)"
      ]
     },
     "execution_count": 23,
     "metadata": {},
     "output_type": "execute_result"
    }
   ],
   "source": [
    "data.GENDER.unique()"
   ]
  },
  {
   "cell_type": "code",
   "execution_count": 26,
   "metadata": {},
   "outputs": [],
   "source": [
    "data = data[data.GENDER != 'F']"
   ]
  },
  {
   "cell_type": "code",
   "execution_count": 27,
   "metadata": {},
   "outputs": [],
   "source": [
    "data = data[data.GENDER != 'M']"
   ]
  },
  {
   "cell_type": "code",
   "execution_count": null,
   "metadata": {},
   "outputs": [],
   "source": [
    "data.GENDER"
   ]
  }
 ],
 "metadata": {
  "kernelspec": {
   "display_name": "Python 3",
   "language": "python",
   "name": "python3"
  },
  "language_info": {
   "codemirror_mode": {
    "name": "ipython",
    "version": 3
   },
   "file_extension": ".py",
   "mimetype": "text/x-python",
   "name": "python",
   "nbconvert_exporter": "python",
   "pygments_lexer": "ipython3",
   "version": "3.8.5"
  }
 },
 "nbformat": 4,
 "nbformat_minor": 4
}
